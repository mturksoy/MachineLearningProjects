{
 "cells": [
  {
   "cell_type": "markdown",
   "id": "afaf05c3-eac7-47c8-af08-61343841f48b",
   "metadata": {},
   "source": [
    "## AB TEST"
   ]
  },
  {
   "cell_type": "code",
   "execution_count": 1,
   "id": "1f4dd6db-244c-4312-bd27-19a5a7b3b308",
   "metadata": {},
   "outputs": [],
   "source": [
    "import itertools\n",
    "import numpy as np\n",
    "import pandas as pd\n",
    "import matplotlib.pyplot as plt\n",
    "import seaborn as sns\n",
    "import statsmodels.stats.api as sms\n",
    "from scipy.stats import ttest_1samp, shapiro, levene, ttest_ind, mannwhitneyu, pearsonr, spearmanr, kendalltau, \\\n",
    "    f_oneway, kruskal\n",
    "from statsmodels.stats.proportion import proportions_ztest\n",
    "\n",
    "pd.set_option('display.max_columns', None)\n",
    "pd.set_option('display.max_rows', 10)\n",
    "pd.set_option('display.float_format', lambda x: '%.5f' % x)"
   ]
  },
  {
   "cell_type": "markdown",
   "id": "251234fe-0a1b-42d2-b9b1-9a12313fbe8b",
   "metadata": {},
   "source": [
    "### İş Problemi\n",
    "Facebook kısa süre önce mevcut maximum bidding adı verilen teklif verme türüne alternatif olarak yeni bir teklif türü olan average bidding’i tanıttı.\n",
    "Müşterilerimizden biri olan bombabomba.com, bu yeni özelliği test etmeye karar verdi ve averagebidding’in, maximumbidding’den daha fazla dönüşüm\n",
    "getirip getirmediğini anlamak için bir A/B testi yapmak istiyor.\n",
    "Maximum Bidding: Maksimum teklif verme\n",
    "Average Bidding: Average teklif verme"
   ]
  },
  {
   "cell_type": "markdown",
   "id": "071c42be-0bd8-4435-b9ef-2edf8beb24ec",
   "metadata": {},
   "source": [
    "### Veri Seti Hikayesi\n",
    "bombabomba.com’un web site bilgilerini içeren bu veri setinde kullanıcıların gördükleri ve tıkladıkları reklam sayıları gibi bilgilerin yanı sıra \n",
    "buradan gelen kazanç bilgileri yer almaktadır.\n",
    "Kontrol ve Test grubu olmak üzere iki ayrı veri seti vardır. Bu veri setleri ab_testing.xlsx excelinin ayrı sayfalarında yer almaktadır.\n",
    "\n",
    "* Impression – Reklam görüntüleme sayısı\n",
    "* Click – Tıklama\n",
    "* Görüntülenen reklama tıklanma sayısını belirtir.\n",
    "* Değişkenler\n",
    "* Purchase – Satın alım\n",
    "* Tıklanan reklamlar sonrası satın alınan ürün sayısını belirtir.\n",
    "* Earning – Kazanç\n",
    "* Satın alınan ürünler sonrası elde edilen kazanç"
   ]
  },
  {
   "cell_type": "markdown",
   "id": "4bd5d64c-cc89-4560-914b-a52754367ff0",
   "metadata": {},
   "source": [
    "### Görev 1:\n",
    "A/B testinin hipotezini tanımlayınız.\n",
    "\n",
    "* H0: Control ve Test Grouplarının ortalaması  arasında fark yoktur.\n",
    "* H1: ... vardır."
   ]
  },
  {
   "cell_type": "code",
   "execution_count": 4,
   "id": "8a62ce2a-8f66-4d05-8a10-281e28e7ba41",
   "metadata": {},
   "outputs": [],
   "source": [
    "# Descriptive Statistics (Betimsel İstatistikler)\n",
    "\n",
    "\n",
    "ctrl_group = pd.read_excel(\"ab_testing.xlsx\", sheet_name= \"Control Group\")\n",
    "test_group = pd.read_excel(\"ab_testing.xlsx\", sheet_name= \"Test Group\")"
   ]
  },
  {
   "cell_type": "code",
   "execution_count": 5,
   "id": "a783baf9-e35c-4f79-8227-05abc28f1148",
   "metadata": {},
   "outputs": [
    {
     "data": {
      "text/html": [
       "<div>\n",
       "<style scoped>\n",
       "    .dataframe tbody tr th:only-of-type {\n",
       "        vertical-align: middle;\n",
       "    }\n",
       "\n",
       "    .dataframe tbody tr th {\n",
       "        vertical-align: top;\n",
       "    }\n",
       "\n",
       "    .dataframe thead th {\n",
       "        text-align: right;\n",
       "    }\n",
       "</style>\n",
       "<table border=\"1\" class=\"dataframe\">\n",
       "  <thead>\n",
       "    <tr style=\"text-align: right;\">\n",
       "      <th></th>\n",
       "      <th>count</th>\n",
       "      <th>mean</th>\n",
       "      <th>std</th>\n",
       "      <th>min</th>\n",
       "      <th>25%</th>\n",
       "      <th>50%</th>\n",
       "      <th>75%</th>\n",
       "      <th>max</th>\n",
       "    </tr>\n",
       "  </thead>\n",
       "  <tbody>\n",
       "    <tr>\n",
       "      <th>Impression</th>\n",
       "      <td>40.00000</td>\n",
       "      <td>101711.44907</td>\n",
       "      <td>20302.15786</td>\n",
       "      <td>45475.94296</td>\n",
       "      <td>85726.69035</td>\n",
       "      <td>99790.70108</td>\n",
       "      <td>115212.81654</td>\n",
       "      <td>147539.33633</td>\n",
       "    </tr>\n",
       "    <tr>\n",
       "      <th>Click</th>\n",
       "      <td>40.00000</td>\n",
       "      <td>5100.65737</td>\n",
       "      <td>1329.98550</td>\n",
       "      <td>2189.75316</td>\n",
       "      <td>4124.30413</td>\n",
       "      <td>5001.22060</td>\n",
       "      <td>5923.80360</td>\n",
       "      <td>7959.12507</td>\n",
       "    </tr>\n",
       "    <tr>\n",
       "      <th>Purchase</th>\n",
       "      <td>40.00000</td>\n",
       "      <td>550.89406</td>\n",
       "      <td>134.10820</td>\n",
       "      <td>267.02894</td>\n",
       "      <td>470.09553</td>\n",
       "      <td>531.20631</td>\n",
       "      <td>637.95709</td>\n",
       "      <td>801.79502</td>\n",
       "    </tr>\n",
       "    <tr>\n",
       "      <th>Earning</th>\n",
       "      <td>40.00000</td>\n",
       "      <td>1908.56830</td>\n",
       "      <td>302.91778</td>\n",
       "      <td>1253.98952</td>\n",
       "      <td>1685.84720</td>\n",
       "      <td>1975.16052</td>\n",
       "      <td>2119.80278</td>\n",
       "      <td>2497.29522</td>\n",
       "    </tr>\n",
       "  </tbody>\n",
       "</table>\n",
       "</div>"
      ],
      "text/plain": [
       "              count         mean         std         min         25%  \\\n",
       "Impression 40.00000 101711.44907 20302.15786 45475.94296 85726.69035   \n",
       "Click      40.00000   5100.65737  1329.98550  2189.75316  4124.30413   \n",
       "Purchase   40.00000    550.89406   134.10820   267.02894   470.09553   \n",
       "Earning    40.00000   1908.56830   302.91778  1253.98952  1685.84720   \n",
       "\n",
       "                   50%          75%          max  \n",
       "Impression 99790.70108 115212.81654 147539.33633  \n",
       "Click       5001.22060   5923.80360   7959.12507  \n",
       "Purchase     531.20631    637.95709    801.79502  \n",
       "Earning     1975.16052   2119.80278   2497.29522  "
      ]
     },
     "execution_count": 5,
     "metadata": {},
     "output_type": "execute_result"
    }
   ],
   "source": [
    "ctrl_group.describe().T"
   ]
  },
  {
   "cell_type": "code",
   "execution_count": 6,
   "id": "164bc094-1629-4b38-a7c7-59229a762af5",
   "metadata": {},
   "outputs": [
    {
     "data": {
      "text/html": [
       "<div>\n",
       "<style scoped>\n",
       "    .dataframe tbody tr th:only-of-type {\n",
       "        vertical-align: middle;\n",
       "    }\n",
       "\n",
       "    .dataframe tbody tr th {\n",
       "        vertical-align: top;\n",
       "    }\n",
       "\n",
       "    .dataframe thead th {\n",
       "        text-align: right;\n",
       "    }\n",
       "</style>\n",
       "<table border=\"1\" class=\"dataframe\">\n",
       "  <thead>\n",
       "    <tr style=\"text-align: right;\">\n",
       "      <th></th>\n",
       "      <th>count</th>\n",
       "      <th>mean</th>\n",
       "      <th>std</th>\n",
       "      <th>min</th>\n",
       "      <th>25%</th>\n",
       "      <th>50%</th>\n",
       "      <th>75%</th>\n",
       "      <th>max</th>\n",
       "    </tr>\n",
       "  </thead>\n",
       "  <tbody>\n",
       "    <tr>\n",
       "      <th>Impression</th>\n",
       "      <td>40.00000</td>\n",
       "      <td>120512.41176</td>\n",
       "      <td>18807.44871</td>\n",
       "      <td>79033.83492</td>\n",
       "      <td>112691.97077</td>\n",
       "      <td>119291.30077</td>\n",
       "      <td>132050.57893</td>\n",
       "      <td>158605.92048</td>\n",
       "    </tr>\n",
       "    <tr>\n",
       "      <th>Click</th>\n",
       "      <td>40.00000</td>\n",
       "      <td>3967.54976</td>\n",
       "      <td>923.09507</td>\n",
       "      <td>1836.62986</td>\n",
       "      <td>3376.81902</td>\n",
       "      <td>3931.35980</td>\n",
       "      <td>4660.49791</td>\n",
       "      <td>6019.69508</td>\n",
       "    </tr>\n",
       "    <tr>\n",
       "      <th>Purchase</th>\n",
       "      <td>40.00000</td>\n",
       "      <td>582.10610</td>\n",
       "      <td>161.15251</td>\n",
       "      <td>311.62952</td>\n",
       "      <td>444.62683</td>\n",
       "      <td>551.35573</td>\n",
       "      <td>699.86236</td>\n",
       "      <td>889.91046</td>\n",
       "    </tr>\n",
       "    <tr>\n",
       "      <th>Earning</th>\n",
       "      <td>40.00000</td>\n",
       "      <td>2514.89073</td>\n",
       "      <td>282.73085</td>\n",
       "      <td>1939.61124</td>\n",
       "      <td>2280.53743</td>\n",
       "      <td>2544.66611</td>\n",
       "      <td>2761.54540</td>\n",
       "      <td>3171.48971</td>\n",
       "    </tr>\n",
       "  </tbody>\n",
       "</table>\n",
       "</div>"
      ],
      "text/plain": [
       "              count         mean         std         min          25%  \\\n",
       "Impression 40.00000 120512.41176 18807.44871 79033.83492 112691.97077   \n",
       "Click      40.00000   3967.54976   923.09507  1836.62986   3376.81902   \n",
       "Purchase   40.00000    582.10610   161.15251   311.62952    444.62683   \n",
       "Earning    40.00000   2514.89073   282.73085  1939.61124   2280.53743   \n",
       "\n",
       "                    50%          75%          max  \n",
       "Impression 119291.30077 132050.57893 158605.92048  \n",
       "Click        3931.35980   4660.49791   6019.69508  \n",
       "Purchase      551.35573    699.86236    889.91046  \n",
       "Earning      2544.66611   2761.54540   3171.48971  "
      ]
     },
     "execution_count": 6,
     "metadata": {},
     "output_type": "execute_result"
    }
   ],
   "source": [
    "test_group.describe().T"
   ]
  },
  {
   "cell_type": "code",
   "execution_count": 7,
   "id": "353285b2-04b9-4789-9413-505a539c07cf",
   "metadata": {},
   "outputs": [
    {
     "data": {
      "text/plain": [
       "Impression    0\n",
       "Click         0\n",
       "Purchase      0\n",
       "Earning       0\n",
       "dtype: int64"
      ]
     },
     "execution_count": 7,
     "metadata": {},
     "output_type": "execute_result"
    }
   ],
   "source": [
    "ctrl_group.isnull().sum()"
   ]
  },
  {
   "cell_type": "code",
   "execution_count": 8,
   "id": "a9a42d45-d983-41c7-94b9-53f67ee0cdaf",
   "metadata": {},
   "outputs": [
    {
     "data": {
      "text/plain": [
       "Impression    0\n",
       "Click         0\n",
       "Purchase      0\n",
       "Earning       0\n",
       "dtype: int64"
      ]
     },
     "execution_count": 8,
     "metadata": {},
     "output_type": "execute_result"
    }
   ],
   "source": [
    "test_group.isnull().sum()"
   ]
  },
  {
   "cell_type": "code",
   "execution_count": 9,
   "id": "e1c14425-153b-48e2-9138-9325937ff26e",
   "metadata": {},
   "outputs": [
    {
     "data": {
      "text/plain": [
       "np.float64(550.8940587702316)"
      ]
     },
     "execution_count": 9,
     "metadata": {},
     "output_type": "execute_result"
    }
   ],
   "source": [
    "ctrl_group[\"Purchase\"].mean()"
   ]
  },
  {
   "cell_type": "code",
   "execution_count": 10,
   "id": "b4c8ffa5-1c31-4ce1-be5c-d23fe5fe4894",
   "metadata": {},
   "outputs": [
    {
     "data": {
      "text/plain": [
       "np.float64(582.1060966484677)"
      ]
     },
     "execution_count": 10,
     "metadata": {},
     "output_type": "execute_result"
    }
   ],
   "source": [
    "test_group[\"Purchase\"].mean()"
   ]
  },
  {
   "cell_type": "markdown",
   "id": "826b5d5d-da80-48f6-b37f-dd8221e5e1c9",
   "metadata": {},
   "source": [
    "### Varsayım sağlanıyorsa pearson sağlanmıyorsa Spearman.\n",
    "\n",
    "* H0: Normal dağılım varsayımı sağlanmaktadır.\n",
    "* H1:..sağlanmamaktadır."
   ]
  },
  {
   "cell_type": "code",
   "execution_count": 11,
   "id": "44ad9d2f-92cf-4c6f-a6cc-4584ae4fc056",
   "metadata": {},
   "outputs": [
    {
     "name": "stdout",
     "output_type": "stream",
     "text": [
      "Test Stat = 0.9773, p-value = 0.5891\n"
     ]
    }
   ],
   "source": [
    "test_stat, pvalue = shapiro(ctrl_group[\"Purchase\"])\n",
    "print('Test Stat = %.4f, p-value = %.4f' % (test_stat, pvalue))"
   ]
  },
  {
   "cell_type": "code",
   "execution_count": 12,
   "id": "29141dcd-99b1-4c45-a516-8d95fdabc68a",
   "metadata": {},
   "outputs": [
    {
     "name": "stdout",
     "output_type": "stream",
     "text": [
      "Test Stat = 0.9589, p-value = 0.1541\n"
     ]
    }
   ],
   "source": [
    "test_stat, pvalue = shapiro(test_group[\"Purchase\"])\n",
    "print('Test Stat = %.4f, p-value = %.4f' % (test_stat, pvalue))"
   ]
  },
  {
   "cell_type": "markdown",
   "id": "43da8825-c4fa-4b74-bd30-e92dd84cf65e",
   "metadata": {},
   "source": [
    "H0 reddedilemez. p-value > 0.05(p-value(ctrl) = 0.5891, p-value(test) = 0.1541). Dağılımlar Normaldir.\n",
    "\n",
    "* Varyans homojenliği\n",
    "* H0: Varyanslar Homojendir\n",
    "* H1: Varyanslar Homojen Değildir"
   ]
  },
  {
   "cell_type": "code",
   "execution_count": 13,
   "id": "c54531c0-14ec-41f1-a6a0-98777bc319d1",
   "metadata": {},
   "outputs": [
    {
     "name": "stdout",
     "output_type": "stream",
     "text": [
      "Test Stat = 2.6393, p-value = 0.1083\n"
     ]
    }
   ],
   "source": [
    "test_stat, pvalue = levene(ctrl_group[\"Purchase\"],\n",
    "                           test_group[\"Purchase\"])\n",
    "\n",
    "print('Test Stat = %.4f, p-value = %.4f' % (test_stat, pvalue))"
   ]
  },
  {
   "cell_type": "markdown",
   "id": "72cd24b2-3671-4b76-9639-b95c997c665d",
   "metadata": {},
   "source": [
    "H0 reddilemez. p-value >0.05(p-value = 0.1083). Varyanslar Homojendir.\n",
    "\n",
    "### Görev 2:\n",
    "Hipotez testini gerçekleştiriniz. Çıkan sonuçların istatistiksel olarak anlamlı olup olmadığını yorumlayınız."
   ]
  },
  {
   "cell_type": "code",
   "execution_count": 14,
   "id": "7faef6f6-ceb1-4d4f-a7f3-bfcea63084e2",
   "metadata": {},
   "outputs": [
    {
     "name": "stdout",
     "output_type": "stream",
     "text": [
      "Test Stat = -0.9416, p-value = 0.3493\n"
     ]
    }
   ],
   "source": [
    "test_stat, pvalue = ttest_ind(ctrl_group[\"Purchase\"],\n",
    "                              test_group[\"Purchase\"],\n",
    "                              equal_var=True)\n",
    "\n",
    "print('Test Stat = %.4f, p-value = %.4f' % (test_stat, pvalue))"
   ]
  },
  {
   "cell_type": "markdown",
   "id": "5fa7c9e3-eda9-4cef-a2dc-6073d9d44998",
   "metadata": {},
   "source": [
    "H0 reddedilemez(p-value = 0.3493). Ortalamalar arasında istatistiksel olarak anlamlı bir fark yoktur.\n",
    "\n",
    "### Görev 3:\n",
    "Hangi testi kullandınız, sebeplerini belirtiniz.\n",
    "\n",
    "* Normallik dağılım testi için shapiro-wilks testi yaptık. Dağılımlar normal dağılıyor.\n",
    "* Varyans homojenliğini levene ile  test ettik. varyanslar homojendir.\n",
    "* Varsayımlarımız sağlandığı için Bağımsız İki Örneklem T-test'ini uyguladık. Varyansların homojen dağıldığını da belirttik.\n",
    "\n",
    "\n",
    "\n",
    "### Görev 4:\n",
    "Görev 2’de verdiğiniz cevaba göre, müşteriye tavsiyeniz nedir?\n",
    "\n",
    "* iki uygulama arasında fark yoktur. Kontrol ve Test gruplarının sayısı 40'ar olduğu için deneyin sürdürülüp daha fazla katılımcı ile gerçekleştirilmesini öneririm."
   ]
  },
  {
   "cell_type": "code",
   "execution_count": null,
   "id": "f5ad5bbc-69f7-4558-b23a-73f57c441223",
   "metadata": {},
   "outputs": [],
   "source": []
  }
 ],
 "metadata": {
  "kernelspec": {
   "display_name": "Python 3 (ipykernel)",
   "language": "python",
   "name": "python3"
  },
  "language_info": {
   "codemirror_mode": {
    "name": "ipython",
    "version": 3
   },
   "file_extension": ".py",
   "mimetype": "text/x-python",
   "name": "python",
   "nbconvert_exporter": "python",
   "pygments_lexer": "ipython3",
   "version": "3.12.4"
  }
 },
 "nbformat": 4,
 "nbformat_minor": 5
}
