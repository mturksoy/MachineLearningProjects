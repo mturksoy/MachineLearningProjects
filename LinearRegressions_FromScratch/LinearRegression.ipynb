{
 "cells": [
  {
   "cell_type": "code",
   "execution_count": 1,
   "id": "1dfbc68e-996d-47f5-9d05-057e3f18bcb0",
   "metadata": {},
   "outputs": [],
   "source": [
    "import numpy as np\n",
    "import matplotlib.pyplot as plt\n",
    "from utils import *\n",
    "import copy, math\n",
    "from utils import *"
   ]
  },
  {
   "cell_type": "code",
   "execution_count": 2,
   "id": "ba7631fd-95dd-409f-83bf-85e9bedfd0c8",
   "metadata": {},
   "outputs": [],
   "source": [
    "X_train = np.array([6.1101, 5.5277, 8.5186, 7.0032, 5.8598, 8.3829, 7.4764, 8.5781, 6.4862, 5.0546])\n",
    "y_train = np.array([17.592, 9.1302, 13.662, 11.854, 6.8233, 11.886, 4.3483, 12, 6.5987, 3.8166])"
   ]
  },
  {
   "cell_type": "code",
   "execution_count": 3,
   "id": "b27a9d16-9d4c-4ddd-9be7-02145509a7dc",
   "metadata": {},
   "outputs": [
    {
     "name": "stdout",
     "output_type": "stream",
     "text": [
      "[6.1101 5.5277 8.5186 7.0032 5.8598 8.3829 7.4764 8.5781 6.4862 5.0546]\n"
     ]
    }
   ],
   "source": [
    "print(X_train)"
   ]
  },
  {
   "cell_type": "code",
   "execution_count": 4,
   "id": "1e039f2a-f882-4261-afe4-1949cbd8e39f",
   "metadata": {},
   "outputs": [
    {
     "data": {
      "text/plain": [
       "numpy.ndarray"
      ]
     },
     "execution_count": 4,
     "metadata": {},
     "output_type": "execute_result"
    }
   ],
   "source": [
    "type(X_train)"
   ]
  },
  {
   "cell_type": "code",
   "execution_count": 5,
   "id": "000acf69-09f2-4aeb-b56d-d5df3e842307",
   "metadata": {},
   "outputs": [
    {
     "name": "stdout",
     "output_type": "stream",
     "text": [
      "[17.592   9.1302 13.662  11.854   6.8233 11.886   4.3483 12.      6.5987\n",
      "  3.8166]\n"
     ]
    }
   ],
   "source": [
    "print(y_train)"
   ]
  },
  {
   "cell_type": "code",
   "execution_count": 6,
   "id": "bbb5e8d6-9899-40ad-878a-93db3e1160a2",
   "metadata": {},
   "outputs": [
    {
     "data": {
      "text/plain": [
       "numpy.ndarray"
      ]
     },
     "execution_count": 6,
     "metadata": {},
     "output_type": "execute_result"
    }
   ],
   "source": [
    "type(y_train)"
   ]
  },
  {
   "cell_type": "code",
   "execution_count": 7,
   "id": "9c467d1e-e128-43ad-853e-5758ac9950b0",
   "metadata": {},
   "outputs": [
    {
     "data": {
      "image/png": "[encoded data removed]",
      "text/plain": [
       "<Figure size 640x480 with 1 Axes>"
      ]
     },
     "metadata": {},
     "output_type": "display_data"
    }
   ],
   "source": [
    "plt.scatter(X_train, y_train, marker='x', c='r')\n",
    "plt.title(\"Profits vs. Population per city\")\n",
    "plt.ylabel('Profit in $10,000')\n",
    "plt.xlabel('Population of City in 10,000s')\n",
    "plt.show()"
   ]
  },
  {
   "cell_type": "code",
   "execution_count": 8,
   "id": "953c8d0b-62c2-469d-88b6-8ae181e62f85",
   "metadata": {},
   "outputs": [],
   "source": [
    "def compute_cost(X, y, w, b):\n",
    "    \"\"\"\n",
    "    Computes the cost function for linear regression.\n",
    "    \n",
    "    Args:\n",
    "        x (ndarray): Shape (m,) Input to the model (Population of cities) \n",
    "        y (ndarray): Shape (m,) Label (Actual profits for the cities)\n",
    "        w, b (scalar): Parameters of the model\n",
    "    \n",
    "    Returns\n",
    "        total_cost (float): The cost of using w,b as the parameters for linear regression\n",
    "               to fit the data points in x and y\n",
    "    \"\"\"\n",
    "\n",
    "    m = X.shape[0]\n",
    "    total_cost = 0.\n",
    "\n",
    "    for i in range(m):\n",
    "        cost = ((X[i] * w + b) - y[i]) ** 2\n",
    "        total_cost += cost\n",
    "    total_cost /= 2 * m\n",
    "\n",
    "    return total_cost"
   ]
  },
  {
   "cell_type": "code",
   "execution_count": 9,
   "id": "a4094d77-2a1a-4b09-8b5c-0d8680ea8de7",
   "metadata": {},
   "outputs": [
    {
     "name": "stdout",
     "output_type": "stream",
     "text": [
      "<class 'numpy.float64'>\n",
      "Cost at initial w: 20.310\n"
     ]
    }
   ],
   "source": [
    "initial_w = 2\n",
    "initial_b = 1\n",
    "\n",
    "cost = compute_cost(X_train, y_train, initial_w, initial_b)\n",
    "print(type(cost))\n",
    "print(f'Cost at initial w: {cost:.3f}')"
   ]
  },
  {
   "cell_type": "code",
   "execution_count": 11,
   "id": "2201892c-e54f-40c1-b6fa-0d2cda2bb93f",
   "metadata": {},
   "outputs": [],
   "source": [
    "def compute_gradient(X, y, w, b):\n",
    "    \"\"\"\n",
    "    Computes the gradient for linear regression\n",
    "    \n",
    "    Args:\n",
    "      x (ndarray): Shape (m,) Input to the model (Population of cities) \n",
    "      y (ndarray): Shape (m,) Label (Actual profits for the cities)\n",
    "      w, b (scalar): Parameters of the model \n",
    "      \n",
    "    Returns\n",
    "      dj_dw (scalar): The gradient of the cost w.r.t. the parameters w\n",
    "      dj_db (scalar): The gradient of the cost w.r.t. the parameter b     \n",
    "     \"\"\"\n",
    "\n",
    "    m = X.shape[0]\n",
    "    dj_dw, dj_db = 0., 0.\n",
    "\n",
    "    for i in range(m):\n",
    "        cost_dw = ((X[i] * w + b) - y[i]) * X[i]\n",
    "        cost_db = (X[i] * w + b) - y[i]\n",
    "\n",
    "        dj_dw += cost_dw\n",
    "        dj_db += cost_db\n",
    "\n",
    "    dj_dw /= m\n",
    "    dj_db /= m\n",
    "\n",
    "    return dj_dw, dj_db"
   ]
  },
  {
   "cell_type": "code",
   "execution_count": 12,
   "id": "899655f0-0fcb-452d-900a-2480600f8f66",
   "metadata": {},
   "outputs": [
    {
     "name": "stdout",
     "output_type": "stream",
     "text": [
      "Gradient at initial w, b (zeros): -69.45159589 -9.771109999999997\n"
     ]
    }
   ],
   "source": [
    "initial_w = 0\n",
    "initial_b = 0\n",
    "\n",
    "tmp_dj_dw, tmp_dj_db = compute_gradient(X_train, y_train, initial_w, initial_b)\n",
    "print('Gradient at initial w, b (zeros):', tmp_dj_dw, tmp_dj_db)"
   ]
  },
  {
   "cell_type": "code",
   "execution_count": 13,
   "id": "e0ae3df1-3b2b-4f65-9557-5c5d2e67bc44",
   "metadata": {},
   "outputs": [
    {
     "name": "stdout",
     "output_type": "stream",
     "text": [
      "Gradient at test w, b: -58.2474330476 -8.191158\n"
     ]
    }
   ],
   "source": [
    "test_w = 0.2\n",
    "test_b = 0.2\n",
    "tmp_dj_dw, tmp_dj_db = compute_gradient(X_train, y_train, test_w, test_b)\n",
    "\n",
    "print('Gradient at test w, b:', tmp_dj_dw, tmp_dj_db)"
   ]
  },
  {
   "cell_type": "code",
   "execution_count": 14,
   "id": "5442258e-dff2-4fa5-8788-657fdddcb591",
   "metadata": {},
   "outputs": [],
   "source": [
    "def gradient_descent(X, y, w_in, b_in, alpha, num_iters):\n",
    "    \"\"\"\n",
    "    Performs batch gradient descent to learn theta. Updates theta by taking \n",
    "    num_iters gradient steps with learning rate alpha\n",
    "    \n",
    "    Args:\n",
    "      x :    (ndarray): Shape (m,)\n",
    "      y :    (ndarray): Shape (m,)\n",
    "      w_in, b_in : (scalar) Initial values of parameters of the model\n",
    "      cost_function: function to compute cost\n",
    "      gradient_function: function to compute the gradient\n",
    "      alpha : (float) Learning rate\n",
    "      num_iters : (int) number of iterations to run gradient descent\n",
    "      \n",
    "    Returns\n",
    "      w : (ndarray): Shape (1,) Updated values of parameters of the model after\n",
    "          running gradient descent\n",
    "      b : (scalar)                Updated value of parameter of the model after\n",
    "          running gradient descent\n",
    "    \"\"\"\n",
    "\n",
    "    m = len(X)\n",
    "    J_history = []\n",
    "    w_history = []\n",
    "    w = copy.deepcopy(w_in)  \n",
    "    b = b_in\n",
    "\n",
    "    for i in range(num_iters):\n",
    "\n",
    "        dj_dw, dj_db = compute_gradient(X, y, w, b )  \n",
    "\n",
    "        w -= alpha * dj_dw               \n",
    "        b -= alpha * dj_db               \n",
    "\n",
    "        if i<100000:       \n",
    "            J_history.append(compute_cost(X, y, w, b))\n",
    "            \n",
    "        if i% math.ceil(num_iters/10) == 0:\n",
    "            w_history.append(w)\n",
    "            print(f\"Iteration {i:4}: Cost {float(J_history[-1]):8.2f}   \")\n",
    "        \n",
    "    return w, b, J_history, w_history"
   ]
  },
  {
   "cell_type": "code",
   "execution_count": 15,
   "id": "ea2099d8-f8b9-4de8-87d6-1dfc5b5bc1ab",
   "metadata": {},
   "outputs": [
    {
     "name": "stdout",
     "output_type": "stream",
     "text": [
      "Iteration    0: Cost    19.57   \n",
      "Iteration  150: Cost     7.34   \n",
      "Iteration  300: Cost     7.34   \n",
      "Iteration  450: Cost     7.34   \n",
      "Iteration  600: Cost     7.34   \n",
      "Iteration  750: Cost     7.34   \n",
      "Iteration  900: Cost     7.34   \n",
      "Iteration 1050: Cost     7.34   \n",
      "Iteration 1200: Cost     7.34   \n",
      "Iteration 1350: Cost     7.34   \n",
      "w,b found by gradient descent: 1.3705405167767037 0.3087127231997825\n"
     ]
    }
   ],
   "source": [
    "initial_w = 0.\n",
    "initial_b = 0.\n",
    "\n",
    "iterations = 1500\n",
    "alpha = 0.01\n",
    "\n",
    "w,b,_,_ = gradient_descent(X_train ,y_train, initial_w, initial_b, alpha, iterations)\n",
    "print(\"w,b found by gradient descent:\", w, b)"
   ]
  },
  {
   "cell_type": "code",
   "execution_count": 16,
   "id": "eff7fc72-2482-4ef0-bd6f-2687be1234d5",
   "metadata": {},
   "outputs": [],
   "source": [
    "m = X_train.shape[0]\n",
    "predicted = np.zeros(m)\n",
    "\n",
    "for i in range(m):\n",
    "    predicted[i] = w * X_train[i] + b"
   ]
  },
  {
   "cell_type": "code",
   "execution_count": 17,
   "id": "407d53f6-86e9-48aa-8d1e-00980839a700",
   "metadata": {},
   "outputs": [
    {
     "data": {
      "text/plain": [
       "Text(0.5, 0, 'Population of City in 10,000s')"
      ]
     },
     "execution_count": 17,
     "metadata": {},
     "output_type": "execute_result"
    },
    {
     "data": {
      "image/png": "[encoded data removed]",
      "text/plain": [
       "<Figure size 640x480 with 1 Axes>"
      ]
     },
     "metadata": {},
     "output_type": "display_data"
    }
   ],
   "source": [
    "plt.plot(X_train, predicted, c = \"b\") \n",
    "plt.scatter(X_train, y_train, marker='x', c='r') \n",
    "plt.title(\"Profits vs. Population per city\")\n",
    "plt.ylabel('Profit in $10,000')\n",
    "plt.xlabel('Population of City in 10,000s')"
   ]
  },
  {
   "cell_type": "code",
   "execution_count": 18,
   "id": "3a4b48df-e52a-4964-817b-e94bbf2b9368",
   "metadata": {},
   "outputs": [
    {
     "name": "stdout",
     "output_type": "stream",
     "text": [
      "For population = 35,000, we predict a profit of $51056.05\n",
      "For population = 70,000, we predict a profit of $99024.96\n"
     ]
    }
   ],
   "source": [
    "predict1 = 3.5 * w + b\n",
    "print('For population = 35,000, we predict a profit of $%.2f' % (predict1*10000))\n",
    "\n",
    "predict2 = 7.0 * w + b\n",
    "print('For population = 70,000, we predict a profit of $%.2f' % (predict2*10000))"
   ]
  },
  {
   "cell_type": "code",
   "execution_count": null,
   "id": "0e52e315-a2f3-469a-a979-0f2d202df8f0",
   "metadata": {},
   "outputs": [],
   "source": []
  },
  {
   "cell_type": "code",
   "execution_count": null,
   "id": "aa4e0ccf-7466-43b5-aaa7-8df7c0d90931",
   "metadata": {},
   "outputs": [],
   "source": []
  }
 ],
 "metadata": {
  "kernelspec": {
   "display_name": "Python (py310)",
   "language": "python",
   "name": "py310"
  },
  "language_info": {
   "codemirror_mode": {
    "name": "ipython",
    "version": 3
   },
   "file_extension": ".py",
   "mimetype": "text/x-python",
   "name": "python",
   "nbconvert_exporter": "python",
   "pygments_lexer": "ipython3",
   "version": "3.10.16"
  }
 },
 "nbformat": 4,
 "nbformat_minor": 5
}
