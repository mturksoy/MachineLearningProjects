{
 "cells": [
  {
   "cell_type": "code",
   "execution_count": 5,
   "id": "b8beb841-f0f6-4b77-bcbd-bd6b0b9f0038",
   "metadata": {},
   "outputs": [],
   "source": [
    "import numpy as np\n",
    "import matplotlib.pyplot as plt\n",
    "import copy, math\n",
    "import pandas as pd"
   ]
  },
  {
   "cell_type": "markdown",
   "id": "27ed761c-5c45-4c1e-a593-73e2a99c823e",
   "metadata": {},
   "source": [
    "## Logistic Regression"
   ]
  },
  {
   "cell_type": "code",
   "execution_count": 2,
   "id": "9ef057e4-c99f-4267-9664-e8e43648cf98",
   "metadata": {},
   "outputs": [],
   "source": [
    "data = np.loadtxt(\"data/ex2data1.txt\", delimiter=',')\n",
    "X_train = data[:,:2]\n",
    "y_train = data[:,2]"
   ]
  },
  {
   "cell_type": "code",
   "execution_count": 3,
   "id": "2ede9a59-b8a6-4cdb-bcbe-713214ca8fa1",
   "metadata": {},
   "outputs": [
    {
     "name": "stdout",
     "output_type": "stream",
     "text": [
      "First 5 element of X_train:  [[34.62365962 78.02469282]\n",
      " [30.28671077 43.89499752]\n",
      " [35.84740877 72.90219803]\n",
      " [60.18259939 86.3085521 ]\n",
      " [79.03273605 75.34437644]]\n"
     ]
    }
   ],
   "source": [
    "print(\"First 5 element of X_train: \", X_train[:5])"
   ]
  },
  {
   "cell_type": "code",
   "execution_count": 4,
   "id": "d8795ef6-61ee-400a-ae2d-eda8d50240b9",
   "metadata": {},
   "outputs": [
    {
     "name": "stdout",
     "output_type": "stream",
     "text": [
      "First 5 element of y_train:  [0. 0. 0. 1. 1.]\n"
     ]
    }
   ],
   "source": [
    "print(\"First 5 element of y_train: \", y_train[:5])"
   ]
  },
  {
   "cell_type": "code",
   "execution_count": 9,
   "id": "553716b0-2242-4c2e-ada8-7b1e0614ceed",
   "metadata": {},
   "outputs": [
    {
     "data": {
      "image/png": "[encoded data removed]",
      "text/plain": [
       "<Figure size 800x600 with 1 Axes>"
      ]
     },
     "metadata": {},
     "output_type": "display_data"
    }
   ],
   "source": [
    "plt.figure(figsize=(8, 6))\n",
    "plt.scatter(X_train[y_train == 0][:, 0], X_train[y_train == 0][:, 1], color='red', label='Class 0')\n",
    "plt.scatter(X_train[y_train == 1][:, 0], X_train[y_train == 1][:, 1], color='blue', label='Class 1')\n",
    "plt.xlabel(\"Feature 1\")\n",
    "plt.ylabel(\"Feature 2\")\n",
    "plt.legend()\n",
    "plt.title(\"Scatter Plot of Data\")\n",
    "plt.show()"
   ]
  },
  {
   "cell_type": "code",
   "execution_count": 12,
   "id": "18c7ac12-c8fc-46e6-8571-c1e859e8661f",
   "metadata": {},
   "outputs": [],
   "source": [
    "def sigmoid(z):\n",
    "    g = 1 / ( 1 + np.exp(-z))\n",
    "    return g"
   ]
  },
  {
   "cell_type": "code",
   "execution_count": 13,
   "id": "0a293ff4-63ff-4d69-9380-c5ba0c339007",
   "metadata": {},
   "outputs": [
    {
     "data": {
      "text/plain": [
       "0.5"
      ]
     },
     "execution_count": 13,
     "metadata": {},
     "output_type": "execute_result"
    }
   ],
   "source": [
    "sigmoid(0)"
   ]
  },
  {
   "cell_type": "code",
   "execution_count": 18,
   "id": "58d8440c-db1e-4565-89a5-57966e42641e",
   "metadata": {},
   "outputs": [],
   "source": [
    "def compute_cost(X, y, w, b, *argv):\n",
    "    m, n = X.shape\n",
    "    cost = 0\n",
    "\n",
    "    for i in range(m):\n",
    "        z_i = np.dot(X[i], w) + b\n",
    "        g_i = sigmoid(z_i)\n",
    "        cost += -y[i] * np.log(g_i) - (1 - y[i]) * np.log(1 - g_i)\n",
    "\n",
    "    cost /= m\n",
    "\n",
    "    return cost"
   ]
  },
  {
   "cell_type": "code",
   "execution_count": 19,
   "id": "88df76ac-ab4e-4e3b-9d97-f308743d8767",
   "metadata": {},
   "outputs": [
    {
     "name": "stdout",
     "output_type": "stream",
     "text": [
      "Cost at initial w and b (zeros): 0.693\n"
     ]
    }
   ],
   "source": [
    "m, n = X_train.shape\n",
    "\n",
    "initial_w = np.zeros(n)\n",
    "initial_b = 0.\n",
    "cost = compute_cost(X_train, y_train, initial_w, initial_b)\n",
    "print('Cost at initial w and b (zeros): {:.3f}'.format(cost))"
   ]
  },
  {
   "cell_type": "code",
   "execution_count": 41,
   "id": "e79abd35-42ae-46a8-890b-a8ef7457deba",
   "metadata": {},
   "outputs": [],
   "source": [
    "def compute_gradient(X, y, w, b, *argv):\n",
    "    m, n = X.shape\n",
    "    dj_dw = np.zeros(w.shape)\n",
    "    dj_db = 0.\n",
    "\n",
    "    for i in range(m):\n",
    "        err_i = sigmoid(np.dot(X[i], w) + b) - y[i]\n",
    "        dj_dw += err_i * X[i]\n",
    "        dj_db += err_i\n",
    "        \n",
    "    dj_dw /= m\n",
    "    dj_db /= m\n",
    "\n",
    "    return dj_db, dj_dw"
   ]
  },
  {
   "cell_type": "code",
   "execution_count": 42,
   "id": "353ece5d-3f9d-462c-a6f8-0f89a2c166d5",
   "metadata": {},
   "outputs": [
    {
     "name": "stdout",
     "output_type": "stream",
     "text": [
      "dj_db at initial w and b (zeros):-0.1\n",
      "dj_dw at initial w and b (zeros):[-12.00921658929115, -11.262842205513591]\n"
     ]
    }
   ],
   "source": [
    "initial_w = np.zeros(n)\n",
    "initial_b = 0.\n",
    "\n",
    "dj_db, dj_dw = compute_gradient(X_train, y_train, initial_w, initial_b)\n",
    "print(f'dj_db at initial w and b (zeros):{dj_db}' )\n",
    "print(f'dj_dw at initial w and b (zeros):{dj_dw.tolist()}' )"
   ]
  },
  {
   "cell_type": "code",
   "execution_count": 48,
   "id": "6df23f2c-12a5-4857-a48d-9ef160db1fba",
   "metadata": {},
   "outputs": [],
   "source": [
    "def gradient_descent(X, y, w_in, b_in, alpha, num_iters, lambda_):\n",
    "\n",
    "    j_history = []\n",
    "    w_history = []\n",
    "\n",
    "    for i in range(num_iters):\n",
    "        dj_db, dj_dw = compute_gradient(X, y, w_in, b_in)\n",
    "\n",
    "        w_in -= alpha * dj_dw\n",
    "        b_in -= alpha * dj_db\n",
    "\n",
    "        if i < 100000:\n",
    "            cost = compute_cost(X, y, w_in, b_in, lambda_)\n",
    "            j_history.append(cost)\n",
    "\n",
    "        if i % math.ceil(num_iters/10) == 0 or i == (num_iters - 1):\n",
    "            w_history.append(w_in)\n",
    "            print(f'Iteration {i:4}: Cost {float(j_history[-1]):8.2f}')\n",
    "\n",
    "    return w_in, b_in, j_history, w_history"
   ]
  },
  {
   "cell_type": "code",
   "execution_count": 49,
   "id": "ccba149e-0e86-4bc3-9844-5490189468f2",
   "metadata": {},
   "outputs": [
    {
     "name": "stdout",
     "output_type": "stream",
     "text": [
      "Iteration    0: Cost     0.96\n",
      "Iteration 1000: Cost     0.31\n",
      "Iteration 2000: Cost     0.30\n",
      "Iteration 3000: Cost     0.30\n",
      "Iteration 4000: Cost     0.30\n",
      "Iteration 5000: Cost     0.30\n",
      "Iteration 6000: Cost     0.30\n",
      "Iteration 7000: Cost     0.30\n",
      "Iteration 8000: Cost     0.30\n",
      "Iteration 9000: Cost     0.30\n",
      "Iteration 9999: Cost     0.30\n"
     ]
    }
   ],
   "source": [
    "np.random.seed(1)\n",
    "initial_w = 0.01 * (np.random.rand(2) - 0.5)\n",
    "initial_b = -8\n",
    "\n",
    "iterations = 10000\n",
    "alpha = 0.001\n",
    "\n",
    "w,b, J_history,_ = gradient_descent(X_train ,y_train, initial_w, initial_b, alpha, iterations, 0)"
   ]
  },
  {
   "cell_type": "code",
   "execution_count": 50,
   "id": "f290d189-f0b3-447d-9b87-50a18f67539e",
   "metadata": {},
   "outputs": [],
   "source": [
    "def predict(X, w, b): \n",
    "\n",
    "    m, n = X.shape   \n",
    "    p = np.zeros(m)\n",
    "\n",
    "    for i in range(m):   \n",
    "        f_wb = sigmoid(np.dot(X[i],w) + b)\n",
    "        \n",
    "        if f_wb > 0.5:\n",
    "            p[i] = 1\n",
    "        else:\n",
    "            p[i] = 0\n",
    "            \n",
    "    return p"
   ]
  },
  {
   "cell_type": "code",
   "execution_count": 52,
   "id": "80e5b7c0-6eef-4c57-910c-b047eb281224",
   "metadata": {},
   "outputs": [
    {
     "name": "stdout",
     "output_type": "stream",
     "text": [
      "Output of predict: shape (4,), value [0. 1. 1. 1.]\n"
     ]
    }
   ],
   "source": [
    "np.random.seed(1)\n",
    "tmp_w = np.random.randn(2)\n",
    "tmp_b = 0.3    \n",
    "tmp_X = np.random.randn(4, 2) - 0.5\n",
    "\n",
    "tmp_p = predict(tmp_X, tmp_w, tmp_b)\n",
    "print(f'Output of predict: shape {tmp_p.shape}, value {tmp_p}')"
   ]
  },
  {
   "cell_type": "markdown",
   "id": "7d555ba1-1ccd-488e-a220-297838eae4bc",
   "metadata": {},
   "source": [
    "## Regularized Logistic Regression"
   ]
  },
  {
   "cell_type": "code",
   "execution_count": 53,
   "id": "720852af-263d-4d78-b0f8-5d68ee99050b",
   "metadata": {},
   "outputs": [],
   "source": [
    "data = np.loadtxt(\"data/ex2data2.txt\", delimiter=',')\n",
    "X_train = data[:,:2]\n",
    "y_train = data[:,2]"
   ]
  },
  {
   "cell_type": "code",
   "execution_count": 54,
   "id": "8fb07b78-8a23-47f7-9602-2bce7d3059d5",
   "metadata": {},
   "outputs": [
    {
     "name": "stdout",
     "output_type": "stream",
     "text": [
      "First 5 element of X:  [[ 0.051267  0.69956 ]\n",
      " [-0.092742  0.68494 ]\n",
      " [-0.21371   0.69225 ]\n",
      " [-0.375     0.50219 ]\n",
      " [-0.51325   0.46564 ]]\n"
     ]
    }
   ],
   "source": [
    "print(\"First 5 element of X: \", X_train[:5])"
   ]
  },
  {
   "cell_type": "code",
   "execution_count": 55,
   "id": "e71ecafa-9719-4ad7-92a1-c8d5110a36bf",
   "metadata": {},
   "outputs": [
    {
     "name": "stdout",
     "output_type": "stream",
     "text": [
      "First 5 element of Y:  [1. 1. 1. 1. 1.]\n"
     ]
    }
   ],
   "source": [
    "print(\"First 5 element of Y: \", y_train[:5])"
   ]
  },
  {
   "cell_type": "code",
   "execution_count": 65,
   "id": "e183fa90-223b-4275-8cde-6146f038357f",
   "metadata": {},
   "outputs": [
    {
     "data": {
      "image/png": "[encoded data removed]",
      "text/plain": [
       "<Figure size 640x480 with 1 Axes>"
      ]
     },
     "metadata": {},
     "output_type": "display_data"
    }
   ],
   "source": [
    "plt.scatter(X_train[y_train == 1][:,0], X_train[y_train == 1][:,1], c='b', label='Positive')\n",
    "plt.scatter(X_train[y_train == 0][:,0], X_train[y_train == 0][:,1], c='r', label='Negative')\n",
    "plt.xlabel(\"Test 1\")\n",
    "plt.ylabel(\"Test 2\")\n",
    "plt.legend();"
   ]
  },
  {
   "cell_type": "code",
   "execution_count": 66,
   "id": "046513e5-9125-486f-97fa-19c1c27b9bea",
   "metadata": {},
   "outputs": [],
   "source": [
    "def map_feature(X1, X2):\n",
    "    \"\"\"\n",
    "    Feature mapping function to polynomial features    \n",
    "    \"\"\"\n",
    "    X1 = np.atleast_1d(X1)\n",
    "    X2 = np.atleast_1d(X2)\n",
    "    degree = 6\n",
    "    out = []\n",
    "    for i in range(1, degree+1):\n",
    "        for j in range(i + 1):\n",
    "            out.append((X1**(i-j) * (X2**j)))\n",
    "    return np.stack(out, axis=1)"
   ]
  },
  {
   "cell_type": "code",
   "execution_count": 67,
   "id": "b2f19181-10e9-4b95-b262-1fe02103c120",
   "metadata": {},
   "outputs": [
    {
     "name": "stdout",
     "output_type": "stream",
     "text": [
      "Original shape of data: (118, 2)\n",
      "Shape after feature mapping: (118, 27)\n"
     ]
    }
   ],
   "source": [
    "print(\"Original shape of data:\", X_train.shape)\n",
    "\n",
    "mapped_X =  map_feature(X_train[:, 0], X_train[:, 1])\n",
    "print(\"Shape after feature mapping:\", mapped_X.shape)"
   ]
  },
  {
   "cell_type": "code",
   "execution_count": 68,
   "id": "e4e66736-75f5-43aa-9a7d-87c4b4e54d99",
   "metadata": {},
   "outputs": [
    {
     "name": "stdout",
     "output_type": "stream",
     "text": [
      "X_train[0]: [0.051267 0.69956 ]\n",
      "mapped X_train[0]: [5.12670000e-02 6.99560000e-01 2.62830529e-03 3.58643425e-02\n",
      " 4.89384194e-01 1.34745327e-04 1.83865725e-03 2.50892595e-02\n",
      " 3.42353606e-01 6.90798869e-06 9.42624411e-05 1.28625106e-03\n",
      " 1.75514423e-02 2.39496889e-01 3.54151856e-07 4.83255257e-06\n",
      " 6.59422333e-05 8.99809795e-04 1.22782870e-02 1.67542444e-01\n",
      " 1.81563032e-08 2.47750473e-07 3.38066048e-06 4.61305487e-05\n",
      " 6.29470940e-04 8.58939846e-03 1.17205992e-01]\n"
     ]
    }
   ],
   "source": [
    "print(\"X_train[0]:\", X_train[0])\n",
    "print(\"mapped X_train[0]:\", mapped_X[0])"
   ]
  },
  {
   "cell_type": "code",
   "execution_count": 78,
   "id": "ff09f450-8a09-4c3f-8ce5-747e355f3827",
   "metadata": {},
   "outputs": [],
   "source": [
    "def compute_cost_reg(X, y, w, b, lambda_ = 1):\n",
    "    m,n = X.shape\n",
    "\n",
    "    cost_without_reg = compute_cost(X, y, w, b)\n",
    "    reg_cost = 0.\n",
    "    \n",
    "    for i in range(n):\n",
    "        reg_cost += w[i] ** 2\n",
    "    reg_cost = (lambda_ / (2*m)) * reg_cost\n",
    "\n",
    "    total_cost = reg_cost + cost_without_reg\n",
    "\n",
    "    return total_cost"
   ]
  },
  {
   "cell_type": "code",
   "execution_count": 79,
   "id": "fe0288b1-ca41-452b-b3f6-a5d7b78088b0",
   "metadata": {},
   "outputs": [
    {
     "name": "stdout",
     "output_type": "stream",
     "text": [
      "Regularized cost : 0.6618252552483948\n"
     ]
    }
   ],
   "source": [
    "X_mapped = map_feature(X_train[:, 0], X_train[:, 1])\n",
    "np.random.seed(1)\n",
    "initial_w = np.random.rand(X_mapped.shape[1]) - 0.5\n",
    "initial_b = 0.5\n",
    "lambda_ = 0.5\n",
    "cost = compute_cost_reg(X_mapped, y_train, initial_w, initial_b, lambda_)\n",
    "\n",
    "print(\"Regularized cost :\", cost)"
   ]
  },
  {
   "cell_type": "code",
   "execution_count": 80,
   "id": "23b14471-ea29-494c-8d62-de28ef384175",
   "metadata": {},
   "outputs": [],
   "source": [
    "def compute_gradient_reg(X, y, w, b, lambda_ = 1):\n",
    "    m, n = X.shape\n",
    "    dj_db, dj_dw = compute_gradient(X, y, w, b)\n",
    "\n",
    "    for j in range(n):\n",
    "        dj_dw[j] += (lambda_/m) * w[j]\n",
    "\n",
    "    return dj_db, dj_dw"
   ]
  },
  {
   "cell_type": "code",
   "execution_count": 81,
   "id": "a47fffc5-94e1-454e-beba-09f6b68ff08a",
   "metadata": {},
   "outputs": [
    {
     "name": "stdout",
     "output_type": "stream",
     "text": [
      "dj_db: 0.07138288792343662\n",
      "First few elements of regularized dj_dw:\n",
      " [-0.010386028450548701, 0.011409852883280122, 0.0536273463274574, 0.0031402782673134655]\n"
     ]
    }
   ],
   "source": [
    "X_mapped = map_feature(X_train[:, 0], X_train[:, 1])\n",
    "np.random.seed(1) \n",
    "initial_w  = np.random.rand(X_mapped.shape[1]) - 0.5 \n",
    "initial_b = 0.5\n",
    " \n",
    "lambda_ = 0.5\n",
    "dj_db, dj_dw = compute_gradient_reg(X_mapped, y_train, initial_w, initial_b, lambda_)\n",
    "\n",
    "print(f\"dj_db: {dj_db}\", )\n",
    "print(f\"First few elements of regularized dj_dw:\\n {dj_dw[:4].tolist()}\", )"
   ]
  },
  {
   "cell_type": "code",
   "execution_count": 82,
   "id": "3c7fdfe4-8a89-47a1-86b4-68aadba68c4a",
   "metadata": {},
   "outputs": [],
   "source": [
    "def gradient_descent_reg(X, y, w_in, b_in, alpha, num_iters, lambda_):\n",
    "\n",
    "    j_history = []\n",
    "    w_history = []\n",
    "\n",
    "    for i in range(num_iters):\n",
    "        dj_db, dj_dw = compute_gradient_reg(X, y, w_in, b_in)\n",
    "\n",
    "        w_in -= alpha * dj_dw\n",
    "        b_in -= alpha * dj_db\n",
    "\n",
    "        if i < 100000:\n",
    "            cost = compute_cost_reg(X, y, w_in, b_in, lambda_)\n",
    "            j_history.append(cost)\n",
    "\n",
    "        if i % math.ceil(num_iters/10) == 0 or i == (num_iters - 1):\n",
    "            w_history.append(w_in)\n",
    "            print(f'Iteration {i:4}: Cost {float(j_history[-1]):8.2f}')\n",
    "\n",
    "    return w_in, b_in, j_history, w_history"
   ]
  },
  {
   "cell_type": "code",
   "execution_count": 83,
   "id": "26819c58-e632-4718-8ce0-ead21e846350",
   "metadata": {},
   "outputs": [
    {
     "name": "stdout",
     "output_type": "stream",
     "text": [
      "Iteration    0: Cost     0.72\n",
      "Iteration 1000: Cost     0.59\n",
      "Iteration 2000: Cost     0.56\n",
      "Iteration 3000: Cost     0.53\n",
      "Iteration 4000: Cost     0.51\n",
      "Iteration 5000: Cost     0.50\n",
      "Iteration 6000: Cost     0.48\n",
      "Iteration 7000: Cost     0.47\n",
      "Iteration 8000: Cost     0.46\n",
      "Iteration 9000: Cost     0.45\n",
      "Iteration 9999: Cost     0.44\n"
     ]
    }
   ],
   "source": [
    "np.random.seed(1)\n",
    "initial_w = np.random.rand(X_mapped.shape[1])-0.5\n",
    "initial_b = 1.\n",
    "lambda_ = 0.01    \n",
    "iterations = 10000\n",
    "alpha = 0.01\n",
    "\n",
    "w,b, J_history,_ = gradient_descent(X_mapped, y_train, initial_w, initial_b, alpha, iterations, lambda_)"
   ]
  },
  {
   "cell_type": "code",
   "execution_count": 84,
   "id": "baf73380-cf59-4c74-873a-1ab78685673e",
   "metadata": {},
   "outputs": [
    {
     "name": "stdout",
     "output_type": "stream",
     "text": [
      "Train Accuracy: 82.203390\n"
     ]
    }
   ],
   "source": [
    "p = predict(X_mapped, w, b)\n",
    "\n",
    "print('Train Accuracy: %f'%(np.mean(p == y_train) * 100))"
   ]
  },
  {
   "cell_type": "code",
   "execution_count": null,
   "id": "42be304a-5122-465e-9e75-39cdda36b1bb",
   "metadata": {},
   "outputs": [],
   "source": []
  }
 ],
 "metadata": {
  "kernelspec": {
   "display_name": "Python (py310)",
   "language": "python",
   "name": "py310"
  },
  "language_info": {
   "codemirror_mode": {
    "name": "ipython",
    "version": 3
   },
   "file_extension": ".py",
   "mimetype": "text/x-python",
   "name": "python",
   "nbconvert_exporter": "python",
   "pygments_lexer": "ipython3",
   "version": "3.10.16"
  }
 },
 "nbformat": 4,
 "nbformat_minor": 5
}
